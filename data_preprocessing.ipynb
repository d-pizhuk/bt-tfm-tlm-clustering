{
 "cells": [
  {
   "cell_type": "markdown",
   "id": "7d2adc75-b70f-47f6-ad0a-a2b97f250a30",
   "metadata": {},
   "source": [
    "# Data Preprocessing"
   ]
  },
  {
   "cell_type": "code",
   "execution_count": 1,
   "id": "e0c5c2af-ed9e-4258-ad27-30b333573c93",
   "metadata": {},
   "outputs": [],
   "source": [
    "import numpy as np\n",
    "import pandas as pd\n",
    "from scipy.stats import mode\n",
    "from sklearn.model_selection import train_test_split\n",
    "import os"
   ]
  },
  {
   "cell_type": "markdown",
   "id": "adbec885-1763-45b7-b54e-566d80adf96e",
   "metadata": {},
   "source": [
    "## Loading and Merging Data Across Survey Years\n",
    "This section loads and merges data from multiple NHANES survey cycles (1999–2006) for lean fat mass, body measurements, and demographics into unified DataFrames for easier analysis."
   ]
  },
  {
   "cell_type": "code",
   "execution_count": 2,
   "id": "ce657ec8-2f82-4ef1-bb26-3860d5c251df",
   "metadata": {},
   "outputs": [
    {
     "name": "stdout",
     "output_type": "stream",
     "text": [
      "Data successfully merged across survey years:\n",
      "- Lean Fat Data: (145130, 4)\n",
      "- Body Measurements: (39352, 11)\n",
      "- Demographic Data: (41474, 5)\n"
     ]
    }
   ],
   "source": [
    "survey_years = [\"1999_2000\", \"2001_2002\", \"2003_2004\", \"2005_2006\"]\n",
    "data_types = [\"lean_fat_data\", \"body_measures\", \"demographic_data\"]\n",
    "\n",
    "dataframes = {data_type: [] for data_type in data_types}\n",
    "\n",
    "for year in survey_years:\n",
    "    for data_type in data_types:\n",
    "        file_path = f\"csv/{year}/{data_type}.csv\"\n",
    "        try:\n",
    "            df = pd.read_csv(file_path)\n",
    "            dataframes[data_type].append(df)\n",
    "        except FileNotFoundError:\n",
    "            print(f\"Warning: File not found {file_path}, skipping...\")\n",
    "\n",
    "lean_fat_data = pd.concat(dataframes[\"lean_fat_data\"], ignore_index=True)\n",
    "body_measurements = pd.concat(dataframes[\"body_measures\"], ignore_index=True)\n",
    "demographic_data = pd.concat(dataframes[\"demographic_data\"], ignore_index=True)\n",
    "\n",
    "print(\"Data successfully merged across survey years:\")\n",
    "print(f\"- Lean Fat Data: {lean_fat_data.shape}\")\n",
    "print(f\"- Body Measurements: {body_measurements.shape}\")\n",
    "print(f\"- Demographic Data: {demographic_data.shape}\")"
   ]
  },
  {
   "cell_type": "markdown",
   "id": "193827b8-a45a-4660-a76e-0c32a26448cd",
   "metadata": {},
   "source": [
    "## Filtering Exam Records and Removing Missing Data\n",
    "This step filters only valid exam records (exam_status == 1) from the lean fat mass dataset and removes missing values to ensure clean data for aggregation."
   ]
  },
  {
   "cell_type": "code",
   "execution_count": 3,
   "id": "3a16cf06-d5fc-40ba-bd95-1d9179584e42",
   "metadata": {},
   "outputs": [
    {
     "name": "stdout",
     "output_type": "stream",
     "text": [
      "Filtered Lean Fat Data: (123555, 4)\n"
     ]
    }
   ],
   "source": [
    "filtered_lean_fat_data = lean_fat_data[lean_fat_data['exam_status'] == 1].dropna()\n",
    "print(f\"Filtered Lean Fat Data: {filtered_lean_fat_data.shape}\")"
   ]
  },
  {
   "cell_type": "markdown",
   "id": "405e80ab-8db1-4b73-80fd-7392f92b8af8",
   "metadata": {},
   "source": [
    "## Aggregating Total Fat Mass (TFM) and Total Lean Mass (TLM) per Individual\n",
    "This step groups data by individual ID (id) and calculates the most frequent (mode) or mean values for total fat mass (TFM) and total lean mass (TLM) to handle multiple exam entries per individual."
   ]
  },
  {
   "cell_type": "code",
   "execution_count": 4,
   "id": "84fba3f2-9b89-462e-a2f4-baeac15caeee",
   "metadata": {},
   "outputs": [
    {
     "name": "stdout",
     "output_type": "stream",
     "text": [
      "Aggregated Lean Fat Data: (24711, 3)\n"
     ]
    }
   ],
   "source": [
    "grouped_lean_fat_data = filtered_lean_fat_data.groupby('id')\n",
    "aggregated_lean_fat_data = []\n",
    "\n",
    "for individual_id, group in grouped_lean_fat_data:\n",
    "    tfm_mode = mode(group['total_fat_mass'], keepdims=True)\n",
    "    tfm_value = tfm_mode.mode[0] if tfm_mode.count[0] > 1 else group['total_fat_mass'].mean()\n",
    "\n",
    "    tlm_mode = mode(group['total_lean_mass'], keepdims=True)\n",
    "    tlm_value = tlm_mode.mode[0] if tlm_mode.count[0] > 1 else group['total_lean_mass'].mean()\n",
    "\n",
    "    aggregated_lean_fat_data.append({'id': individual_id, 'total_fat_mass': tfm_value, 'total_lean_mass': tlm_value})\n",
    "\n",
    "aggregated_lean_fat_df = pd.DataFrame(aggregated_lean_fat_data)\n",
    "print(f\"Aggregated Lean Fat Data: {aggregated_lean_fat_df.shape}\")"
   ]
  },
  {
   "cell_type": "markdown",
   "id": "239b66f3-f287-4baf-8def-d9c09724b273",
   "metadata": {},
   "source": [
    "## Merging Body Measurements, Demographics, and Aggregated Lean Fat Data\n",
    "This step merges the body measurements, demographic data, and aggregated lean fat mass data using the common id column, ensuring a complete dataset."
   ]
  },
  {
   "cell_type": "code",
   "execution_count": 5,
   "id": "bfba99d2-1fcc-472f-9c6a-d83698102baa",
   "metadata": {},
   "outputs": [
    {
     "name": "stdout",
     "output_type": "stream",
     "text": [
      "Merged Dataset Shape (before filtering): (24711, 17)\n"
     ]
    }
   ],
   "source": [
    "merged_health_data = (\n",
    "    body_measurements\n",
    "    .merge(demographic_data, on='id', how='inner')\n",
    "    .merge(aggregated_lean_fat_df, on='id', how='inner')\n",
    ")\n",
    "\n",
    "print(f\"Merged Dataset Shape (before filtering): {merged_health_data.shape}\")"
   ]
  },
  {
   "cell_type": "markdown",
   "id": "4a424b9b-684e-44d2-a17b-88b6f9d954a9",
   "metadata": {},
   "source": [
    "## Filtering for Valid Age Range and Non-Amputated Individuals\n",
    "This step removes individuals with amputations (amputation == 1) and keeps only those aged between 15 and 64 years."
   ]
  },
  {
   "cell_type": "code",
   "execution_count": 6,
   "id": "649f050d-e4ed-4c05-b56c-395036937bb7",
   "metadata": {},
   "outputs": [
    {
     "name": "stdout",
     "output_type": "stream",
     "text": [
      "Dataset Shape after Filtering Age & Amputation: (15621, 17)\n"
     ]
    }
   ],
   "source": [
    "filtered_health_data = merged_health_data[merged_health_data['amputation'] != 1]\n",
    "\n",
    "filtered_health_data = filtered_health_data[\n",
    "    (filtered_health_data['age_in_months'] / 12 >= 15) &\n",
    "    (filtered_health_data['age_in_months'] / 12 < 64)\n",
    "]\n",
    "\n",
    "print(f\"Dataset Shape after Filtering Age & Amputation: {filtered_health_data.shape}\")"
   ]
  },
  {
   "cell_type": "markdown",
   "id": "c5bace04-8a5b-4ddd-8058-04b4c9167cad",
   "metadata": {},
   "source": [
    "## Dropping Unnecessary Columns and some Cleanup\n",
    "This step removes unnecessary columns (pregnancy_status and amputation) and drops any remaining missing values."
   ]
  },
  {
   "cell_type": "code",
   "execution_count": 7,
   "id": "675ff9b8-84fe-4b4d-9fd8-d9796dd3e86f",
   "metadata": {},
   "outputs": [
    {
     "name": "stdout",
     "output_type": "stream",
     "text": [
      "Final Dataset Shape (after dropping NaNs): (15359, 15)\n"
     ]
    },
    {
     "data": {
      "text/html": [
       "<div>\n",
       "<style scoped>\n",
       "    .dataframe tbody tr th:only-of-type {\n",
       "        vertical-align: middle;\n",
       "    }\n",
       "\n",
       "    .dataframe tbody tr th {\n",
       "        vertical-align: top;\n",
       "    }\n",
       "\n",
       "    .dataframe thead th {\n",
       "        text-align: right;\n",
       "    }\n",
       "</style>\n",
       "<table border=\"1\" class=\"dataframe\">\n",
       "  <thead>\n",
       "    <tr style=\"text-align: right;\">\n",
       "      <th></th>\n",
       "      <th>id</th>\n",
       "      <th>weight</th>\n",
       "      <th>height</th>\n",
       "      <th>bmi</th>\n",
       "      <th>upper_leg_length</th>\n",
       "      <th>maximal_calf_circumference</th>\n",
       "      <th>upper_arm_length</th>\n",
       "      <th>arm_circumference</th>\n",
       "      <th>waist_circumference</th>\n",
       "      <th>thigh_circumference</th>\n",
       "      <th>gender</th>\n",
       "      <th>age_in_months</th>\n",
       "      <th>ethnicity</th>\n",
       "      <th>total_fat_mass</th>\n",
       "      <th>total_lean_mass</th>\n",
       "    </tr>\n",
       "  </thead>\n",
       "  <tbody>\n",
       "    <tr>\n",
       "      <th>1</th>\n",
       "      <td>5.0</td>\n",
       "      <td>92.5</td>\n",
       "      <td>178.3</td>\n",
       "      <td>29.10</td>\n",
       "      <td>45.2</td>\n",
       "      <td>42.6</td>\n",
       "      <td>39.7</td>\n",
       "      <td>35.8</td>\n",
       "      <td>99.9</td>\n",
       "      <td>56.2</td>\n",
       "      <td>1.0</td>\n",
       "      <td>597.0</td>\n",
       "      <td>3.0</td>\n",
       "      <td>29215.5</td>\n",
       "      <td>64392.2</td>\n",
       "    </tr>\n",
       "    <tr>\n",
       "      <th>2</th>\n",
       "      <td>6.0</td>\n",
       "      <td>59.2</td>\n",
       "      <td>162.0</td>\n",
       "      <td>22.56</td>\n",
       "      <td>39.7</td>\n",
       "      <td>34.0</td>\n",
       "      <td>34.5</td>\n",
       "      <td>26.0</td>\n",
       "      <td>81.6</td>\n",
       "      <td>47.0</td>\n",
       "      <td>2.0</td>\n",
       "      <td>230.0</td>\n",
       "      <td>5.0</td>\n",
       "      <td>25022.8</td>\n",
       "      <td>35279.5</td>\n",
       "    </tr>\n",
       "    <tr>\n",
       "      <th>3</th>\n",
       "      <td>7.0</td>\n",
       "      <td>78.0</td>\n",
       "      <td>162.9</td>\n",
       "      <td>29.39</td>\n",
       "      <td>43.0</td>\n",
       "      <td>37.2</td>\n",
       "      <td>38.1</td>\n",
       "      <td>31.7</td>\n",
       "      <td>90.7</td>\n",
       "      <td>55.7</td>\n",
       "      <td>2.0</td>\n",
       "      <td>712.0</td>\n",
       "      <td>4.0</td>\n",
       "      <td>31481.0</td>\n",
       "      <td>47511.3</td>\n",
       "    </tr>\n",
       "    <tr>\n",
       "      <th>5</th>\n",
       "      <td>10.0</td>\n",
       "      <td>111.8</td>\n",
       "      <td>190.1</td>\n",
       "      <td>30.94</td>\n",
       "      <td>46.6</td>\n",
       "      <td>43.7</td>\n",
       "      <td>43.0</td>\n",
       "      <td>37.6</td>\n",
       "      <td>108.0</td>\n",
       "      <td>64.0</td>\n",
       "      <td>1.0</td>\n",
       "      <td>518.0</td>\n",
       "      <td>4.0</td>\n",
       "      <td>31265.3</td>\n",
       "      <td>81419.0</td>\n",
       "    </tr>\n",
       "    <tr>\n",
       "      <th>6</th>\n",
       "      <td>11.0</td>\n",
       "      <td>65.0</td>\n",
       "      <td>171.9</td>\n",
       "      <td>22.00</td>\n",
       "      <td>40.5</td>\n",
       "      <td>37.8</td>\n",
       "      <td>37.2</td>\n",
       "      <td>29.2</td>\n",
       "      <td>76.5</td>\n",
       "      <td>39.9</td>\n",
       "      <td>1.0</td>\n",
       "      <td>184.0</td>\n",
       "      <td>3.0</td>\n",
       "      <td>11616.4</td>\n",
       "      <td>54140.2</td>\n",
       "    </tr>\n",
       "  </tbody>\n",
       "</table>\n",
       "</div>"
      ],
      "text/plain": [
       "     id  weight  height    bmi  upper_leg_length  maximal_calf_circumference  \\\n",
       "1   5.0    92.5   178.3  29.10              45.2                        42.6   \n",
       "2   6.0    59.2   162.0  22.56              39.7                        34.0   \n",
       "3   7.0    78.0   162.9  29.39              43.0                        37.2   \n",
       "5  10.0   111.8   190.1  30.94              46.6                        43.7   \n",
       "6  11.0    65.0   171.9  22.00              40.5                        37.8   \n",
       "\n",
       "   upper_arm_length  arm_circumference  waist_circumference  \\\n",
       "1              39.7               35.8                 99.9   \n",
       "2              34.5               26.0                 81.6   \n",
       "3              38.1               31.7                 90.7   \n",
       "5              43.0               37.6                108.0   \n",
       "6              37.2               29.2                 76.5   \n",
       "\n",
       "   thigh_circumference  gender  age_in_months  ethnicity  total_fat_mass  \\\n",
       "1                 56.2     1.0          597.0        3.0         29215.5   \n",
       "2                 47.0     2.0          230.0        5.0         25022.8   \n",
       "3                 55.7     2.0          712.0        4.0         31481.0   \n",
       "5                 64.0     1.0          518.0        4.0         31265.3   \n",
       "6                 39.9     1.0          184.0        3.0         11616.4   \n",
       "\n",
       "   total_lean_mass  \n",
       "1          64392.2  \n",
       "2          35279.5  \n",
       "3          47511.3  \n",
       "5          81419.0  \n",
       "6          54140.2  "
      ]
     },
     "execution_count": 7,
     "metadata": {},
     "output_type": "execute_result"
    }
   ],
   "source": [
    "columns_to_remove = ['pregnancy_status', 'amputation']\n",
    "\n",
    "cleaned_health_data = filtered_health_data.drop(columns=columns_to_remove, errors='ignore')\n",
    "\n",
    "cleaned_health_data = cleaned_health_data.dropna()\n",
    "\n",
    "print(f\"Final Dataset Shape (after dropping NaNs): {cleaned_health_data.shape}\")\n",
    "cleaned_health_data.head()"
   ]
  },
  {
   "cell_type": "markdown",
   "id": "136bc43c-50e8-42ed-8898-8d5015320988",
   "metadata": {},
   "source": [
    "## Data Validation and Cleaning\n",
    "This section performs data validation by checking for unrealistic values in key columns, such as negative or biologically implausible measurements."
   ]
  },
  {
   "cell_type": "code",
   "execution_count": 8,
   "id": "dbe6e87b-e205-489c-87b8-67fe1760e4aa",
   "metadata": {},
   "outputs": [],
   "source": [
    "valid_ranges = {\n",
    "    \"weight\": (30, 300),  # in kg (realistic for adults)\n",
    "    \"height\": (100, 250),  # in cm\n",
    "    \"bmi\": (10, 60),  # valid BMI range\n",
    "    \"upper_leg_length\": (30, 100),  # in cm\n",
    "    \"maximal_calf_circumference\": (20, 60),  # in cm\n",
    "    \"upper_arm_length\": (20, 50),  # in cm\n",
    "    \"arm_circumference\": (15, 60),  # in cm\n",
    "    \"waist_circumference\": (50, 200),  # in cm\n",
    "    \"thigh_circumference\": (30, 90),  # in cm\n",
    "}\n",
    "\n",
    "# Function to filter out unreasonable values\n",
    "def filter_unrealistic_values(df, valid_ranges):\n",
    "    for column, (min_val, max_val) in valid_ranges.items():\n",
    "        if column in df.columns:\n",
    "            invalid_count = df[(df[column] < min_val) | (df[column] > max_val)].shape[0]\n",
    "            if invalid_count > 0:\n",
    "                print(f\"Warning: {invalid_count} records removed due to unrealistic {column} values\")\n",
    "            df = df[(df[column] >= min_val) & (df[column] <= max_val)]\n",
    "    return df"
   ]
  },
  {
   "cell_type": "code",
   "execution_count": 9,
   "id": "1547f9ec-94ca-44be-bf4c-b70bec8346b3",
   "metadata": {},
   "outputs": [
    {
     "name": "stdout",
     "output_type": "stream",
     "text": [
      "Warning: 38 records removed due to unrealistic upper_leg_length values\n",
      "Warning: 1 records removed due to unrealistic waist_circumference values\n",
      "Warning: 2 records removed due to unrealistic thigh_circumference values\n",
      "Final dataset after validation: (15318, 15)\n"
     ]
    }
   ],
   "source": [
    "validated_health_data = filter_unrealistic_values(cleaned_health_data, valid_ranges)\n",
    "\n",
    "print(f\"Final dataset after validation: {validated_health_data.shape}\")"
   ]
  },
  {
   "cell_type": "markdown",
   "id": "9ef80f97-9650-433a-a53d-b3ffeb932064",
   "metadata": {},
   "source": [
    "## Define BMI Groups & Stratification\n",
    "This section categorizes BMI into clinical groups and creates a stratification column for better training/testing balance."
   ]
  },
  {
   "cell_type": "code",
   "execution_count": 10,
   "id": "d31a3d69-8ee6-4a5a-ab32-b4b6f770f742",
   "metadata": {},
   "outputs": [
    {
     "name": "stdout",
     "output_type": "stream",
     "text": [
      "Stratification groups created. Unique groups: 285\n"
     ]
    }
   ],
   "source": [
    "def classify_bmi(bmi_value):\n",
    "    if bmi_value < 18.5:\n",
    "        return 'Underweight'\n",
    "    elif 18.5 <= bmi_value < 25:\n",
    "        return 'Healthy Weight'\n",
    "    elif 25 <= bmi_value < 30:\n",
    "        return 'Overweight'\n",
    "    elif 30 <= bmi_value < 35:\n",
    "        return 'Obese'\n",
    "    else:\n",
    "        return 'Extremely Obese'\n",
    "\n",
    "validated_health_data['age_group'] = pd.cut(\n",
    "    validated_health_data['age_in_months'] / 12,\n",
    "    bins=[16, 26, 36, 46, 56, 65], \n",
    "    labels=['16-26', '26-36', '36-46', '46-56', '56-65'], \n",
    "    right=False\n",
    ")\n",
    "\n",
    "validated_health_data['bmi_group'] = validated_health_data['bmi'].apply(classify_bmi)\n",
    "\n",
    "validated_health_data['stratify_group'] = (\n",
    "    validated_health_data['age_group'].astype(str) + \"_\" +\n",
    "    validated_health_data['gender'].astype(str) + \"_\" +\n",
    "    validated_health_data['ethnicity'].astype(str) + \"_\" +\n",
    "    validated_health_data['bmi_group'].astype(str)\n",
    ")\n",
    "\n",
    "print(f\"Stratification groups created. Unique groups: {validated_health_data['stratify_group'].nunique()}\")"
   ]
  },
  {
   "cell_type": "markdown",
   "id": "819f07d3-59ac-4726-a1b5-64322cb654c8",
   "metadata": {},
   "source": [
    "## Deviding into Train and Test Sets\n",
    "This section devides dataset into train and test sets based on stratification column."
   ]
  },
  {
   "cell_type": "code",
   "execution_count": 11,
   "id": "af9715aa-99ea-449d-bbc0-092bee423cfa",
   "metadata": {},
   "outputs": [],
   "source": [
    "group_counts = validated_health_data['stratify_group'].value_counts()\n",
    "validated_health_data['stratify_group'] = validated_health_data['stratify_group'].apply(lambda x: x if group_counts[x] >= 2 else 'Other')\n",
    "\n",
    "train_set, test_set = train_test_split(validated_health_data, test_size=0.30, random_state=42, stratify=validated_health_data['stratify_group'])"
   ]
  },
  {
   "cell_type": "markdown",
   "id": "8386ba3c-0bf4-4198-b69b-b9b798f0c8b4",
   "metadata": {},
   "source": [
    "## Saving the Data"
   ]
  },
  {
   "cell_type": "code",
   "execution_count": 12,
   "id": "b9f98bb9-91ed-45e2-a4f2-ae4c86b3c6a2",
   "metadata": {},
   "outputs": [
    {
     "name": "stdout",
     "output_type": "stream",
     "text": [
      "Cleaned and validated train data saved successfully: data/train.csv\n",
      "Cleaned and validated test data saved successfully: data/test.csv\n"
     ]
    }
   ],
   "source": [
    "train_path = \"data/train.csv\"\n",
    "test_path = \"data/test.csv\"\n",
    "\n",
    "os.makedirs(os.path.dirname(train_path), exist_ok=True)\n",
    "train_set.to_csv(train_path, index=False)\n",
    "test_set.to_csv(test_path, index=False)\n",
    "\n",
    "print(f\"Cleaned and validated train data saved successfully: {train_path}\")\n",
    "print(f\"Cleaned and validated test data saved successfully: {test_path}\")"
   ]
  }
 ],
 "metadata": {
  "kernelspec": {
   "display_name": "Python 3 (ipykernel)",
   "language": "python",
   "name": "python3"
  },
  "language_info": {
   "codemirror_mode": {
    "name": "ipython",
    "version": 3
   },
   "file_extension": ".py",
   "mimetype": "text/x-python",
   "name": "python",
   "nbconvert_exporter": "python",
   "pygments_lexer": "ipython3",
   "version": "3.12.4"
  }
 },
 "nbformat": 4,
 "nbformat_minor": 5
}
