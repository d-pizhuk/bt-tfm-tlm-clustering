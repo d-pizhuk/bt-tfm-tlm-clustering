{
 "cells": [
  {
   "cell_type": "markdown",
   "id": "9795a983-1b7d-4092-90fa-6d8cce68ea18",
   "metadata": {},
   "source": [
    "# Converting Data in XPT format to CSV format"
   ]
  },
  {
   "cell_type": "code",
   "execution_count": 3,
   "id": "ca96af0d-326f-4b02-93ca-98255d3d8cd3",
   "metadata": {},
   "outputs": [],
   "source": [
    "import xport\n",
    "import csv\n",
    "import os\n",
    "from tqdm import tqdm"
   ]
  },
  {
   "cell_type": "markdown",
   "id": "3253d261-1bdb-4607-965b-dcad6d1bfa26",
   "metadata": {},
   "source": [
    "## Method for Converting an XPT File to CSV\n",
    "This function converts an XPT file to a CSV file, allowing for column renaming and handling missing columns gracefully."
   ]
  },
  {
   "cell_type": "code",
   "execution_count": 4,
   "id": "f31c3c07-06a0-4199-b117-f1cc891f367b",
   "metadata": {},
   "outputs": [],
   "source": [
    "def convert_xpt_to_csv(columns_to_save, new_columns, xpt_file_path, csv_path_to_save):\n",
    "    \"\"\"\n",
    "    Converts an XPT (SAS Transport) file to a CSV file, renaming selected columns and handling missing columns gracefully.\n",
    "    \n",
    "    Parameters:\n",
    "        columns_to_save (list): List of original column names to extract.\n",
    "        new_columns (list): List of new column names to rename extracted columns.\n",
    "        xpt_file_path (str): Path to the input XPT file.\n",
    "        csv_path_to_save (str): Path to save the output CSV file.\n",
    "    \"\"\"\n",
    "    try:\n",
    "        column_mapping = dict(zip(columns_to_save, new_columns))\n",
    "        \n",
    "        with open(xpt_file_path, 'rb') as xpt_file:\n",
    "            reader = xport.XportReader(xpt_file)\n",
    "            available_fields = set(reader.fields)\n",
    "            \n",
    "            missing_columns = [col for col in columns_to_save if col not in available_fields]\n",
    "            if missing_columns:\n",
    "                print(f\"Warning: Missing columns in XPT file: {missing_columns}\")\n",
    "\n",
    "            os.makedirs(os.path.dirname(csv_path_to_save), exist_ok=True)\n",
    "\n",
    "            with open(csv_path_to_save, 'w', newline='') as out_csv:\n",
    "                writer = csv.DictWriter(out_csv, fieldnames=new_columns)\n",
    "                writer.writeheader()\n",
    "\n",
    "                for row in reader:\n",
    "                    writer.writerow({\n",
    "                        new_name: getattr(row, old_name, \"nan\") if old_name in available_fields else \"nan\"\n",
    "                        for old_name, new_name in column_mapping.items()\n",
    "                    })\n",
    "\n",
    "        print(f\"Data successfully saved to {csv_path_to_save}\")\n",
    "\n",
    "    except Exception as e:\n",
    "        print(f\"Error: {e}\")"
   ]
  },
  {
   "cell_type": "markdown",
   "id": "1a938053-b67b-460b-9f6a-3173bfb23ee9",
   "metadata": {},
   "source": [
    "## Column Mappings for XPT to CSV Conversion\n",
    "This section defines the selected columns from various XPT datasets and their corresponding renamed headers for a structured CSV output."
   ]
  },
  {
   "cell_type": "code",
   "execution_count": 5,
   "id": "6ef5df10-0a9e-4c61-9e8c-6e0f4666c1f5",
   "metadata": {},
   "outputs": [],
   "source": [
    "# Body Measurements (BM) Data\n",
    "columns_to_save_bm = ['SEQN', 'BMXWT', 'BMXHT', 'BMXBMI', 'BMXLEG', 'BMXCALF', 'BMXARML', 'BMXARMC', 'BMXWAIST', 'BMXTHICR', 'BMAAMP']\n",
    "new_columns_bm = [\"id\", \"weight\", \"height\", \"bmi\", \"upper_leg_length\", \"maximal_calf_circumference\", \"upper_arm_length\", \"arm_circumference\", \"waist_circumference\", \"thigh_circumference\", \"amputation\"]\n",
    "\n",
    "# Demographics (DEMO) Data\n",
    "columns_to_save_demo = ['SEQN', 'RIAGENDR', 'RIDAGEEX', 'RIDRETH1', 'RIDEXPRG']\n",
    "new_columns_demo = [\"id\", \"gender\", \"age_in_months\", \"ethnicity\", \"pregnancy_status\"]\n",
    "\n",
    "# Lean Mass Data\n",
    "columns_to_save_lean_mass_data = ['SEQN', 'DXAEXSTS', 'DXDTOFAT', 'DXDTOLI']\n",
    "new_columns_lean_mass_data = [\"id\", \"exam_status\", \"total_fat_mass\", \"total_lean_mass\"]\n",
    "\n",
    "# Cardiovascular (CV) Data\n",
    "columns_to_save_cv = ['SEQN', 'CVDFITLV']\n",
    "new_columns_cv = [\"id\", \"cv_fitness_level\"]"
   ]
  },
  {
   "cell_type": "markdown",
   "id": "195b3292-c01a-4c54-bd8b-0f51721926dc",
   "metadata": {},
   "source": [
    "## Converting XPT Files to CSV Across Multiple Years (1999-2006)\n",
    "This section processes multiple NHANES XPT files from different survey years (1999–2006), converting them to CSV format with proper column mapping."
   ]
  },
  {
   "cell_type": "code",
   "execution_count": 8,
   "id": "77525665-84db-41b1-a3a1-b3ead0b10deb",
   "metadata": {},
   "outputs": [
    {
     "name": "stdout",
     "output_type": "stream",
     "text": [
      "Processing XPT files...\n"
     ]
    },
    {
     "name": "stderr",
     "output_type": "stream",
     "text": [
      "Converting:   7%|████▌                                                                | 1/15 [00:03<00:43,  3.12s/file]"
     ]
    },
    {
     "name": "stdout",
     "output_type": "stream",
     "text": [
      "Data successfully saved to csv/1999_2000/body_measures.csv\n"
     ]
    },
    {
     "name": "stderr",
     "output_type": "stream",
     "text": [
      "Converting:  13%|█████████▏                                                           | 2/15 [00:12<01:30,  6.94s/file]"
     ]
    },
    {
     "name": "stdout",
     "output_type": "stream",
     "text": [
      "Data successfully saved to csv/1999_2000/demographic_data.csv\n"
     ]
    },
    {
     "name": "stderr",
     "output_type": "stream",
     "text": [
      "Converting:  20%|█████████████▊                                                       | 3/15 [00:27<02:08, 10.68s/file]"
     ]
    },
    {
     "name": "stdout",
     "output_type": "stream",
     "text": [
      "Data successfully saved to csv/1999_2000/lean_fat_data.csv\n"
     ]
    },
    {
     "name": "stderr",
     "output_type": "stream",
     "text": [
      "Converting:  27%|██████████████████▍                                                  | 4/15 [00:31<01:25,  7.77s/file]"
     ]
    },
    {
     "name": "stdout",
     "output_type": "stream",
     "text": [
      "Data successfully saved to csv/1999_2000/cv_level.csv\n",
      "Warning: Missing columns in XPT file: ['BMAAMP']\n"
     ]
    },
    {
     "name": "stderr",
     "output_type": "stream",
     "text": [
      "Converting:  33%|███████████████████████                                              | 5/15 [00:33<00:57,  5.79s/file]"
     ]
    },
    {
     "name": "stdout",
     "output_type": "stream",
     "text": [
      "Data successfully saved to csv/2001_2002/body_measures.csv\n"
     ]
    },
    {
     "name": "stderr",
     "output_type": "stream",
     "text": [
      "Converting:  40%|███████████████████████████▌                                         | 6/15 [00:36<00:43,  4.87s/file]"
     ]
    },
    {
     "name": "stdout",
     "output_type": "stream",
     "text": [
      "Data successfully saved to csv/2001_2002/demographic_data.csv\n"
     ]
    },
    {
     "name": "stderr",
     "output_type": "stream",
     "text": [
      "Converting:  47%|████████████████████████████████▏                                    | 7/15 [00:57<01:20, 10.07s/file]"
     ]
    },
    {
     "name": "stdout",
     "output_type": "stream",
     "text": [
      "Data successfully saved to csv/2001_2002/lean_fat_data.csv\n"
     ]
    },
    {
     "name": "stderr",
     "output_type": "stream",
     "text": [
      "Converting:  53%|████████████████████████████████████▊                                | 8/15 [01:00<00:55,  7.95s/file]"
     ]
    },
    {
     "name": "stdout",
     "output_type": "stream",
     "text": [
      "Data successfully saved to csv/2001_2002/cv_level.csv\n",
      "Warning: Missing columns in XPT file: ['BMAAMP']\n"
     ]
    },
    {
     "name": "stderr",
     "output_type": "stream",
     "text": [
      "Converting:  60%|█████████████████████████████████████████▍                           | 9/15 [01:03<00:37,  6.19s/file]"
     ]
    },
    {
     "name": "stdout",
     "output_type": "stream",
     "text": [
      "Data successfully saved to csv/2003_2004/body_measures.csv\n"
     ]
    },
    {
     "name": "stderr",
     "output_type": "stream",
     "text": [
      "Converting:  67%|█████████████████████████████████████████████▎                      | 10/15 [01:06<00:26,  5.30s/file]"
     ]
    },
    {
     "name": "stdout",
     "output_type": "stream",
     "text": [
      "Data successfully saved to csv/2003_2004/demographic_data.csv\n"
     ]
    },
    {
     "name": "stderr",
     "output_type": "stream",
     "text": [
      "Converting:  73%|█████████████████████████████████████████████████▊                  | 11/15 [01:22<00:34,  8.66s/file]"
     ]
    },
    {
     "name": "stdout",
     "output_type": "stream",
     "text": [
      "Data successfully saved to csv/2003_2004/lean_fat_data.csv\n"
     ]
    },
    {
     "name": "stderr",
     "output_type": "stream",
     "text": [
      "Converting:  80%|██████████████████████████████████████████████████████▍             | 12/15 [01:25<00:20,  6.91s/file]"
     ]
    },
    {
     "name": "stdout",
     "output_type": "stream",
     "text": [
      "Data successfully saved to csv/2003_2004/cv_level.csv\n",
      "Warning: Missing columns in XPT file: ['BMAAMP']\n"
     ]
    },
    {
     "name": "stderr",
     "output_type": "stream",
     "text": [
      "Converting:  87%|██████████████████████████████████████████████████████████▉         | 13/15 [01:27<00:10,  5.38s/file]"
     ]
    },
    {
     "name": "stdout",
     "output_type": "stream",
     "text": [
      "Data successfully saved to csv/2005_2006/body_measures.csv\n"
     ]
    },
    {
     "name": "stderr",
     "output_type": "stream",
     "text": [
      "Converting:  93%|███████████████████████████████████████████████████████████████▍    | 14/15 [01:30<00:04,  4.69s/file]"
     ]
    },
    {
     "name": "stdout",
     "output_type": "stream",
     "text": [
      "Data successfully saved to csv/2005_2006/demographic_data.csv\n"
     ]
    },
    {
     "name": "stderr",
     "output_type": "stream",
     "text": [
      "Converting: 100%|████████████████████████████████████████████████████████████████████| 15/15 [01:45<00:00,  7.05s/file]"
     ]
    },
    {
     "name": "stdout",
     "output_type": "stream",
     "text": [
      "Data successfully saved to csv/2005_2006/lean_fat_data.csv\n",
      "All files processed successfully.\n"
     ]
    },
    {
     "name": "stderr",
     "output_type": "stream",
     "text": [
      "\n"
     ]
    }
   ],
   "source": [
    "survey_cycles = [\n",
    "    (\"1999_2000\", \"BMX\", \"body_measures\", columns_to_save_bm, new_columns_bm),\n",
    "    (\"1999_2000\", \"DEMO\", \"demographic_data\", columns_to_save_demo, new_columns_demo),\n",
    "    (\"1999_2000\", \"dxx\", \"lean_fat_data\", columns_to_save_lean_mass_data, new_columns_lean_mass_data),\n",
    "    (\"1999_2000\", \"CVX\", \"cv_level\", columns_to_save_cv, new_columns_cv),\n",
    "\n",
    "    (\"2001_2002\", \"BMX_B\", \"body_measures\", columns_to_save_bm, new_columns_bm),\n",
    "    (\"2001_2002\", \"DEMO_B\", \"demographic_data\", columns_to_save_demo, new_columns_demo),\n",
    "    (\"2001_2002\", \"dxx_b\", \"lean_fat_data\", columns_to_save_lean_mass_data, new_columns_lean_mass_data),\n",
    "    (\"2001_2002\", \"CVX_B\", \"cv_level\", columns_to_save_cv, new_columns_cv),  \n",
    "\n",
    "    (\"2003_2004\", \"BMX_C\", \"body_measures\", columns_to_save_bm, new_columns_bm),\n",
    "    (\"2003_2004\", \"DEMO_C\", \"demographic_data\", columns_to_save_demo, new_columns_demo),\n",
    "    (\"2003_2004\", \"dxx_c\", \"lean_fat_data\", columns_to_save_lean_mass_data, new_columns_lean_mass_data),\n",
    "    (\"2003_2004\", \"CVX_C\", \"cv_level\", columns_to_save_cv, new_columns_cv),\n",
    "\n",
    "    (\"2005_2006\", \"BMX_D\", \"body_measures\", columns_to_save_bm, new_columns_bm),\n",
    "    (\"2005_2006\", \"DEMO_D\", \"demographic_data\", columns_to_save_demo, new_columns_demo),\n",
    "    (\"2005_2006\", \"dxx_d\", \"lean_fat_data\", columns_to_save_lean_mass_data, new_columns_lean_mass_data),\n",
    "]\n",
    "\n",
    "\n",
    "print(\"Processing XPT files...\")\n",
    "for cycle, xpt_file, csv_file, columns, new_columns in tqdm(survey_cycles, desc=\"Converting\", unit=\"file\"):\n",
    "    xpt_file_path = f\"xpt/{cycle}/{xpt_file}.xpt\"\n",
    "    csv_path_to_save = f\"csv/{cycle}/{csv_file}.csv\"\n",
    "\n",
    "    convert_xpt_to_csv(columns, new_columns, xpt_file_path, csv_path_to_save)\n",
    "\n",
    "print(\"All files processed successfully.\")"
   ]
  },
  {
   "cell_type": "code",
   "execution_count": null,
   "id": "11b23d4a-98d2-40ee-b8a7-b5c7cc2fb526",
   "metadata": {},
   "outputs": [],
   "source": []
  }
 ],
 "metadata": {
  "kernelspec": {
   "display_name": "Python 3 (ipykernel)",
   "language": "python",
   "name": "python3"
  },
  "language_info": {
   "codemirror_mode": {
    "name": "ipython",
    "version": 3
   },
   "file_extension": ".py",
   "mimetype": "text/x-python",
   "name": "python",
   "nbconvert_exporter": "python",
   "pygments_lexer": "ipython3",
   "version": "3.12.4"
  }
 },
 "nbformat": 4,
 "nbformat_minor": 5
}
